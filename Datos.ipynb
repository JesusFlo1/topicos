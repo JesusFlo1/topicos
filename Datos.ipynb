{
 "cells": [
  {
   "cell_type": "code",
   "execution_count": 1,
   "metadata": {},
   "outputs": [],
   "source": [
    "\n",
    "import pandas as pd\n",
    "import os\n",
    "url=\"https://raw.githubusercontent.com/carlosriosacevedo17/mlverano/master/conjuntodatos/seminario.csv\"\n",
    "data=pd.read_csv(url, sep=',', encoding='ISO-8859-1')"
   ]
  },
  {
   "cell_type": "code",
   "execution_count": 2,
   "metadata": {},
   "outputs": [],
   "source": [
    "\n",
    "def getSubset(col_list, des_col, dataset):\n",
    "    sublist=[x for x in col_list if x in des_col]\n",
    "    subset=dataset[sublist]\n",
    "    return subset\n",
    "\n",
    "def crearDataset(dataset, nombre):\n",
    "    dataset.to_csv(nombre)\n",
    "    \n",
    "def buscaColumna(nombreColumna, col_list):\n",
    "    return col_list.index(nombreColumna)"
   ]
  },
  {
   "cell_type": "code",
   "execution_count": 3,
   "metadata": {},
   "outputs": [],
   "source": [
    "col_list=data.columns.values.tolist()\n",
    "columnas=['ID_MUNICIPIO','MATRICULA.1', 'MATRICULA.2','ID_ESCUELA', 'PASSWORD', 'DIRECCION', 'NOMBRE_PAIS', 'NOMBRE_ESCUELA', 'ID_PAIS.2', 'ID_ESTADO.2']\n",
    "nombres=['datos-particulares','datos-bancarios','catalogo-vistas','datos-academicos','catalogo-salones', 'catalogo-sedes', 'catalogo-pais', 'datos-escuela', 'catalogo-estados', 'catalogo-estados2']"
   ]
  },
  {
   "cell_type": "code",
   "execution_count": 4,
   "metadata": {},
   "outputs": [],
   "source": [
    "valor_inicial=1\n",
    "suma = 1\n",
    "for nom_col,nom_arch in zip(columnas, nombres):\n",
    "    valor_tope=buscaColumna(nom_col, col_list)\n",
    "    suma = suma+len([col_list[x] for x in range(valor_inicial,valor_tope+1)])\n",
    "    data1=getSubset(col_list,[col_list[x] for x in range(valor_inicial,valor_tope+1)],data)\n",
    "    crearDataset(data1,\"C:/Users/Chucho/Desktop/cursopython/subsetssests\"+\"/\"+nom_arch+\".csv\")\n",
    "    valor_inicial=valor_tope+1"
   ]
  },
  {
   "cell_type": "code",
   "execution_count": null,
   "metadata": {},
   "outputs": [],
   "source": []
  },
  {
   "cell_type": "code",
   "execution_count": null,
   "metadata": {},
   "outputs": [],
   "source": []
  }
 ],
 "metadata": {
  "kernelspec": {
   "display_name": "Python 3",
   "language": "python",
   "name": "python3"
  },
  "language_info": {
   "codemirror_mode": {
    "name": "ipython",
    "version": 3
   },
   "file_extension": ".py",
   "mimetype": "text/x-python",
   "name": "python",
   "nbconvert_exporter": "python",
   "pygments_lexer": "ipython3",
   "version": "3.7.3"
  }
 },
 "nbformat": 4,
 "nbformat_minor": 2
}
